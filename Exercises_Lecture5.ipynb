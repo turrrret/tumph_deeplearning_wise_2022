{
 "cells": [
  {
   "cell_type": "markdown",
   "id": "6466584d",
   "metadata": {},
   "source": [
    "Matrix Multiplication is defined as follows\n",
    "\n",
    "$$R_{ij} = \\sum_k A_{ik}B_{kj}$$\n",
    "\n",
    "\n",
    "## Step 1\n",
    "\n",
    "Derive a formula for how many basic operations are required for a matrix multiplication\n",
    "\n"
   ]
  },
  {
   "cell_type": "markdown",
   "id": "81409d8e",
   "metadata": {},
   "source": [
    "### Solution\n",
    "\n",
    "* there are $i\\cdot j$ entries in the resulting matrix\n",
    "* for each entry there are k terms we need to add to the result of this entry (1 addition) and to compute what to add we need to compute $A_{ik}B_{kj}$ (1 multiplication)\n",
    "* $2k$ basic operations for each entry and $i\\cdot j$ entries\n",
    "* $2ijk$ operations per matrix multiplication"
   ]
  },
  {
   "cell_type": "markdown",
   "id": "192bbede",
   "metadata": {},
   "source": [
    "## Step 2\n",
    "Implement an non-fancy algorithm (just use python loops) that multiplies to matrices and returns\n",
    "  * The resulting matrix R\n",
    "  * A count of the number of additions and multiplications (i.e. floating point operations) required for the computation"
   ]
  },
  {
   "cell_type": "code",
   "execution_count": 1,
   "id": "0c5fc10c",
   "metadata": {},
   "outputs": [],
   "source": [
    "def matmul(A,B):\n",
    "    Arows, Acols = A.shape\n",
    "    Brows, Bcols = B.shape\n",
    "    if not Acols == Brows:\n",
    "        raise RuntimeError('nope!')\n",
    "    result = np.zeros((Arows,Bcols))\n",
    "    counter = 0\n",
    "    for i in range(Arows):\n",
    "        for j in range(Bcols):\n",
    "            value = 0\n",
    "            for k in range(Acols):\n",
    "                value = value + (A[i,k] * B[k,j])\n",
    "                counter += 2\n",
    "            result[i,j] = value\n",
    "    return result,counter"
   ]
  },
  {
   "cell_type": "markdown",
   "id": "2b9c34f2",
   "metadata": {},
   "source": [
    "## Step 3\n",
    "* Check that your code works by comparing the result with `np.matmul` using the function `np.allclose` and using random matrices (from a standard normal)\n",
    "* Check your formula for the full number of floating point operations (FLOPS)"
   ]
  },
  {
   "cell_type": "code",
   "execution_count": 2,
   "id": "8b942c3c",
   "metadata": {},
   "outputs": [
    {
     "name": "stdout",
     "output_type": "stream",
     "text": [
      "True\n",
      "20000 20000\n"
     ]
    }
   ],
   "source": [
    "import numpy as np\n",
    "A = np.random.normal(size = (10,50))\n",
    "B = np.random.normal(size = (50,20))\n",
    "R,c = matmul(A,B)\n",
    "print(np.allclose(R,np.matmul(A,B)))\n",
    "print(c,2*10*50*20)"
   ]
  },
  {
   "cell_type": "markdown",
   "id": "a0217c02",
   "metadata": {},
   "source": [
    "## Step 4\n",
    "\n",
    "Consider this decreasing set of matrices\n",
    "* A = Matrix with shape (100,200)\n",
    "* B = Matrix with shape (50,100)\n",
    "* C = Matrix with shape (2,50)\n",
    "\n",
    "We are interested in computing $M = ABC$ and we could do it 2 ways\n",
    "\n",
    "* The \"forward\" way $C(BA)$\n",
    "* The \"backward\" way $(CB)A$\n",
    "\n",
    "* Use your matrix multiply to compute the computational cost of these two options\n",
    "* cross-check with your formula that this matches expectations\n",
    "* Which one is more advantagous for a linear map from 200 → 2 dimensions? What's the ratio of the reuqired FLOPs?"
   ]
  },
  {
   "cell_type": "code",
   "execution_count": 3,
   "id": "a526421e",
   "metadata": {},
   "outputs": [
    {
     "name": "stdout",
     "output_type": "stream",
     "text": [
      "2040000 2040000\n",
      "100000 100000\n",
      "20.4\n"
     ]
    }
   ],
   "source": [
    "A = np.random.uniform(size = (100,200))\n",
    "B = np.random.uniform(size = (50,100))\n",
    "C = np.random.uniform(size = (2,50))\n",
    "\n",
    "R,c1 = matmul(B,A)\n",
    "R,c2 = matmul(C,R)\n",
    "fwd_cost = c1+c2\n",
    "print(fwd_cost, (2*50*200*100) + (2*2*50*200))\n",
    "\n",
    "\n",
    "R,c1 = matmul(C,B)\n",
    "R,c2 = matmul(R,A)\n",
    "rev_cost = c1+c2\n",
    "print(rev_cost, (2*100*2*50) + (2*2*100*200))\n",
    "\n",
    "ratio = fwd_cost/rev_cost\n",
    "print(ratio)"
   ]
  },
  {
   "cell_type": "markdown",
   "id": "fa9d5282",
   "metadata": {},
   "source": [
    "## Step 5\n",
    "\n",
    "Repeat the same Exercise for an increasing set of matrices\n",
    "\n",
    "\n",
    "* A = Matrix with shape (300,2)\n",
    "* B = Matrix with shape (500,300)\n",
    "* C = Matrix with shape (1000,500)\n",
    "\n",
    "Which direction is more advantages now?"
   ]
  },
  {
   "cell_type": "code",
   "execution_count": 4,
   "id": "1fb379cb",
   "metadata": {},
   "outputs": [
    {
     "name": "stdout",
     "output_type": "stream",
     "text": [
      "2600000 2040000\n",
      "301200000 100000\n",
      "115.84615384615384\n"
     ]
    }
   ],
   "source": [
    "A = np.random.uniform(size = (300,2))\n",
    "B = np.random.uniform(size = (500,300))\n",
    "C = np.random.uniform(size = (1000,500))\n",
    "\n",
    "R,c1 = matmul(B,A)\n",
    "R,c2 = matmul(C,R)\n",
    "fwd_cost = c1+c2\n",
    "print(fwd_cost, (2*50*200*100) + (2*2*50*200))\n",
    "\n",
    "\n",
    "R,c1 = matmul(C,B)\n",
    "R,c2 = matmul(R,A)\n",
    "rev_cost = c1+c2\n",
    "print(rev_cost, (2*100*2*50) + (2*2*100*200))\n",
    "\n",
    "ratio = rev_cost/fwd_cost\n",
    "print(ratio)"
   ]
  },
  {
   "cell_type": "markdown",
   "id": "f04402f5",
   "metadata": {},
   "source": [
    "## Step 6\n",
    "\n",
    "Take the function $$\\mathbb{R}^3 \\to \\mathbb{R}^2$$\n",
    "\n",
    "* Install the library JAX `pip install jax jaxlib`\n",
    "\n",
    "and consider the following function\n",
    "\n",
    "```python\n",
    "import jax\n",
    "import jax.numpy as jnp\n",
    "\n",
    "def func(x):\n",
    "    x1,x2,x3 = x\n",
    "    z1 = 2*x1*x2\n",
    "    z2 = x3**2\n",
    "    return jnp.array([z1,z2])\n",
    "```\n",
    "\n",
    "* What is the Jacobian of this function $\\frac{\\partial z_i}{\\partial x_i}$?\n",
    "* What does the Jacobian look like at the input `X = [2.,3.,2.]` ?"
   ]
  },
  {
   "cell_type": "markdown",
   "id": "d353fa1f",
   "metadata": {},
   "source": [
    "$$J = \\left(\\begin{array}{}\n",
    "  2x_2 & 2x_1 & 0\\\\\n",
    "  0 & 0 & 2x_3\\\\\n",
    "\\end{array}\\right)$$\n",
    "\n",
    "At `x = [2.,3.,2.]`\n",
    "\n",
    "$$J = \\left(\\begin{array}{}\n",
    "  6 & 4 & 0\\\\\n",
    "  0 & 0 & 4\\\\\n",
    "\\end{array}\\right)$$\n"
   ]
  },
  {
   "cell_type": "markdown",
   "id": "1d94f661",
   "metadata": {},
   "source": [
    "## Step 7\n",
    "\n",
    "`jax` allows us to extract the Jacobian via Jacobian Vector Products of Vector Jacobian products\n",
    "\n",
    "To compute $Jv$ at a point $x$ we can use `value, jac_column = jax.jvp(function, (x,), (v,))` \n",
    "\n",
    "This will give us `value` corresponding to $f(x)$ and `jac_column` corresponding to $Jv$\n",
    "\n",
    "* Use this API to extract the 3 columns of the Jacobian via 3 special choices of $v$"
   ]
  },
  {
   "cell_type": "code",
   "execution_count": 5,
   "id": "34b37453",
   "metadata": {},
   "outputs": [
    {
     "data": {
      "text/plain": [
       "array([[6., 4., 0.],\n",
       "       [0., 6., 0.]], dtype=float32)"
      ]
     },
     "execution_count": 5,
     "metadata": {},
     "output_type": "execute_result"
    }
   ],
   "source": [
    "import jax\n",
    "import jax.numpy as jnp\n",
    "\n",
    "def func(X):\n",
    "    a,b,c = X\n",
    "    z1 = 2*a*b\n",
    "    z2 = b**2\n",
    "    return jnp.array([z1,z2])\n",
    "\n",
    "x = jnp.array([2.,3.,2.])\n",
    "_,col1 = jax.jvp(func,(x,),(jnp.array([1.,0.,0.]),))\n",
    "_,col2 = jax.jvp(func,(x,),(jnp.array([0.,1.,0.]),))\n",
    "_,col3 = jax.jvp(func,(x,),(jnp.array([0.,0.,1.]),))\n",
    "\n",
    "np.column_stack([col1,col2,col3])"
   ]
  },
  {
   "cell_type": "markdown",
   "id": "b2722876",
   "metadata": {},
   "source": [
    "## Step 8\n",
    "\n",
    "`jax` also allows us to to VJPs. As we know these are the ones that are most important for Deep Learning\n",
    "\n",
    "Here the API is slighly different. We can call `value, vjp_func = jax.vjp(function,x)`\n",
    "The variable `value` will correspond as usual to $f(x)$, while `jvp_func` is a function that we can call\n",
    "with `vjp_func(v)` to compute $v^T J$"
   ]
  },
  {
   "cell_type": "code",
   "execution_count": 6,
   "id": "55bc7929",
   "metadata": {},
   "outputs": [
    {
     "name": "stdout",
     "output_type": "stream",
     "text": [
      "(DeviceArray([6., 4., 0.], dtype=float32),)\n",
      "(DeviceArray([0., 6., 0.], dtype=float32),)\n"
     ]
    }
   ],
   "source": [
    "value, vjp_func = jax.vjp(func,x)\n",
    "print(vjp_func(jnp.array([1.,0.])))\n",
    "print(vjp_func(jnp.array([0.,1.])))"
   ]
  },
  {
   "cell_type": "markdown",
   "id": "107e3aaa",
   "metadata": {},
   "source": [
    "Congratulations - you've now used your first automatic differentiation system!\n",
    "\n",
    "To celebrate let's calculate the gradient of some fun functions\n",
    "\n",
    "In JAX we can do this like this\n",
    "\n",
    "```python\n",
    "def myfunction(x):\n",
    "    return x**2\n",
    "\n",
    "\n",
    "value_and_gradient_func = jax.vmap(jax.value_and_grad(myfunction))\n",
    "```\n",
    "\n",
    "`value_and_gradient_func` now is a function in which we an pass an array of x values and it will return an array\n",
    "of y values and the gradient value $\\frac{\\partial f}{\\partial x}$ at that point.\n",
    "\n",
    "```python\n",
    "values, gradients = value_and_gradient_func(xarray)\n",
    "```\n",
    "\n",
    "Use this to compute the function value and gradients for `x^2`, `\\sin(x^2)\\cos(x)`, or whatever function you can thing of on the interval (-5,5)"
   ]
  },
  {
   "cell_type": "code",
   "execution_count": 9,
   "id": "7601cca9",
   "metadata": {},
   "outputs": [
    {
     "data": {
      "text/plain": [
       "[<matplotlib.lines.Line2D at 0x134170070>]"
      ]
     },
     "execution_count": 9,
     "metadata": {},
     "output_type": "execute_result"
    },
    {
     "data": {
      "image/png": "[encoded data removed]",
      "text/plain": [
       "<Figure size 640x480 with 1 Axes>"
      ]
     },
     "metadata": {},
     "output_type": "display_data"
    }
   ],
   "source": [
    "import matplotlib.pyplot as plt\n",
    "def myfunction(x):\n",
    "    return jnp.sin(x**2)*jnp.cos(x)\n",
    "\n",
    "value_and_gradients = jax.vmap(jax.value_and_grad(myfunction))\n",
    "\n",
    "xi = np.linspace(-5,5,1001)\n",
    "yi,gi = value_and_gradients(xi)\n",
    "plt.plot(xi,yi, label = 'func')\n",
    "plt.plot(xi,gi, label = 'grad')"
   ]
  },
  {
   "cell_type": "code",
   "execution_count": null,
   "id": "d0647d5a",
   "metadata": {},
   "outputs": [],
   "source": []
  }
 ],
 "metadata": {
  "kernelspec": {
   "display_name": "Python 3 (ipykernel)",
   "language": "python",
   "name": "python3"
  },
  "language_info": {
   "codemirror_mode": {
    "name": "ipython",
    "version": 3
   },
   "file_extension": ".py",
   "mimetype": "text/x-python",
   "name": "python",
   "nbconvert_exporter": "python",
   "pygments_lexer": "ipython3",
   "version": "3.9.11"
  }
 },
 "nbformat": 4,
 "nbformat_minor": 5
}
