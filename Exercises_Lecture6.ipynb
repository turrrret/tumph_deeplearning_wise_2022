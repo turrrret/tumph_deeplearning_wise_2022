{
 "cells": [
  {
   "cell_type": "markdown",
   "id": "fab2bcad",
   "metadata": {},
   "source": [
    "## Going PyTorch !\n"
   ]
  },
  {
   "cell_type": "markdown",
   "id": "ce61fea0",
   "metadata": {},
   "source": [
    "Finally, we'll move past manually coding up everything and use a proper ML framework for an end-to-end ML training setup (we did use `jax` for some autodiff last time, but that doesn't count)\n",
    "\n",
    "\n",
    "We'll use the \"Hello World\" of machine learning and classify the famous \"MNIST\" digits\n",
    "\n",
    "For this you'll need to install 2 key libraries\n",
    "\n",
    "```bash\n",
    "pip install mnist\n",
    "pip install torch\n",
    "```\n"
   ]
  },
  {
   "cell_type": "code",
   "execution_count": 11,
   "id": "bde71609",
   "metadata": {},
   "outputs": [
    {
     "name": "stdout",
     "output_type": "stream",
     "text": [
      "Requirement already satisfied: mnist in /Users/lukasheinrich/.pyenv/versions/3.9.11/lib/python3.9/site-packages (0.2.2)\n",
      "Requirement already satisfied: numpy in /Users/lukasheinrich/.pyenv/versions/3.9.11/lib/python3.9/site-packages (from mnist) (1.23.3)\n",
      "\u001b[33mWARNING: You are using pip version 22.0.4; however, version 22.3.1 is available.\n",
      "You should consider upgrading via the '/Users/lukasheinrich/.pyenv/versions/3.9.11/bin/python3.9 -m pip install --upgrade pip' command.\u001b[0m\u001b[33m\n",
      "\u001b[0mRequirement already satisfied: torch in /Users/lukasheinrich/.pyenv/versions/3.9.11/lib/python3.9/site-packages (1.13.0)\n",
      "Requirement already satisfied: typing-extensions in /Users/lukasheinrich/.pyenv/versions/3.9.11/lib/python3.9/site-packages (from torch) (4.4.0)\n",
      "\u001b[33mWARNING: You are using pip version 22.0.4; however, version 22.3.1 is available.\n",
      "You should consider upgrading via the '/Users/lukasheinrich/.pyenv/versions/3.9.11/bin/python3.9 -m pip install --upgrade pip' command.\u001b[0m\u001b[33m\n",
      "\u001b[0m"
     ]
    }
   ],
   "source": [
    "!pip install mnist\n",
    "!pip install torch"
   ]
  },
  {
   "cell_type": "markdown",
   "id": "44fd6050",
   "metadata": {},
   "source": [
    "## Step 1\n",
    "\n",
    "Import the `mnist` packages and check out the training dataset via\n",
    "\n",
    "```python\n",
    "import mnist\n",
    "train_X = mnist.train_images()\n",
    "train_y = mnist.train_labels()\n",
    "```\n",
    "\n",
    "MNIST digits are 28 x 28 pixels and the labels are single digits 0-9\n",
    "\n",
    "* Write simple plotting function `plot(X,y,pred = None)` that uses `matplotlib`'s `plt.imshow` to visualize one of the training samples, and `plt.title` to display the label and a possible prediction\n",
    "* Try looking at a few random train examples to get a feel for the dataset\n"
   ]
  },
  {
   "cell_type": "code",
   "execution_count": 32,
   "id": "0e41e6a8",
   "metadata": {},
   "outputs": [],
   "source": [
    "import mnist\n",
    "import matplotlib.pyplot as plt\n",
    "train_X = mnist.train_images()\n",
    "train_y = mnist.train_labels()"
   ]
  },
  {
   "cell_type": "code",
   "execution_count": 33,
   "id": "48b0034a",
   "metadata": {},
   "outputs": [
    {
     "data": {
      "text/plain": [
       "array([5, 0, 4, ..., 5, 6, 8], dtype=uint8)"
      ]
     },
     "execution_count": 33,
     "metadata": {},
     "output_type": "execute_result"
    }
   ],
   "source": [
    "train_y"
   ]
  },
  {
   "cell_type": "code",
   "execution_count": 34,
   "id": "af4c59da",
   "metadata": {},
   "outputs": [],
   "source": [
    "def plot(X,y,pred = None):\n",
    "    plt.imshow(X)\n",
    "    plt.title(f'label: {y}, pred: {pred}', fontdict={'size': 8})\n",
    "    plt.gcf().set_size_inches(1,1)"
   ]
  },
  {
   "cell_type": "code",
   "execution_count": 232,
   "id": "15aa083e",
   "metadata": {},
   "outputs": [
    {
     "name": "stdout",
     "output_type": "stream",
     "text": [
      "752\n"
     ]
    },
    {
     "data": {
      "image/png": "[encoded data removed]",
      "text/plain": [
       "<Figure size 100x100 with 1 Axes>"
      ]
     },
     "metadata": {},
     "output_type": "display_data"
    }
   ],
   "source": [
    "import numpy as np\n",
    "idx = np.random.randint(0,1000)\n",
    "print(idx)\n",
    "plot(train_X[idx],train_y[idx])"
   ]
  },
  {
   "cell_type": "markdown",
   "id": "735f17d2",
   "metadata": {},
   "source": [
    "To write a prediction system for digits, we need to figure out what the constraints to our functions is. \n",
    "\n",
    "What type of output do we need?\n",
    "\n",
    "As usual in prediction tasks we want to approximate the posterior $q_\\phi(\\mathrm{digit}|\\mathrm{image}) \\ \\approx p(\\mathrm{digit}|\\mathrm{image})$\n",
    "using out standard amortized variational inference setup where we optmize the risk\n",
    "\n",
    "$$\n",
    "\\mathrm{KL}(p||q) \\to L = -\\mathbb{E}_{p(\\mathrm{images},\\mathrm{labels})}\\log q_\\phi(\\mathrm{digit}|\\mathrm{image})\n",
    "$$\n",
    "\n",
    "The first thing is we need to think about a good family of approximate densities $q_\\phi$\n",
    "\n",
    "In the end we want a so-called \"categorial\" output, i.e we want posterior probabilities for 10 possible outputs (out 10 digits)\n",
    "\n",
    "$$q(\\mathrm{digit = 0}| \\mathrm{image}),q(\\mathrm{digit = 1}| \\mathrm{image}), \\dots $$\n",
    "\n",
    "\n",
    "An appropriate density is the [Categorical distribution](https://en.wikipedia.org/wiki/Categorical_distribution), \n",
    "which is the extension of the \"Bernoulli\" distribution and defined by $k$ numbers $\\theta_1,\\dots \\theta_k$\n",
    "\n",
    "$$p(z|\\theta_1,\\theta_2,\\dots \\theta_k)$$\n",
    "\n",
    "The rule is simple, the probability that $z==i$, i.e. $q(z = i)$ is just $\\theta_i$.\n",
    "\n",
    "The requirement for this to work out is that all $\\theta$'s need to be positive and sum up to one, to make it a proper probability distirbution\n",
    "\n",
    "$$\\sum_i \\theta_i = 1, \\theta_i > 0$$\n",
    "\n",
    "In out amortized setup we will want to have a function that maps from $\\mathbb{R}^{784}$ (i.e. 28x28 = 784) dimensions into 10 numbers $\\theta_i(x)$ that sum to unity (i.e. a a [10-simplex](https://en.wikipedia.org/wiki/Simplex))\n",
    "\n",
    "$$$$\n",
    "\n",
    "How do we do this?\n",
    "\n",
    "We can easily imagine a function $\\mathbb{R}^N \\to \\mathbb{R}^M$ using a MLP, but what's the equivalent of the sigmoid we used for binary classification?"
   ]
  },
  {
   "cell_type": "markdown",
   "id": "5fd85374",
   "metadata": {},
   "source": [
    "## Step 2 - make things positive\n",
    "\n",
    "First let's tackle the first requirement $\\theta_i > 0$. We used the sigmoid to make\n",
    "things be [0,1], what's a good function to make any $x \\in \\mathbb{R}$ into a positive number?\n",
    "\n",
    "The exponential function $f(x) = e^x$!\n",
    "\n",
    "* Plot the function on an interval $x\\in [-10,10]$ to convince yourself\n",
    "* Use `torch` methods instead of `numpy`"
   ]
  },
  {
   "cell_type": "code",
   "execution_count": 332,
   "id": "ce696dcd",
   "metadata": {},
   "outputs": [
    {
     "data": {
      "text/plain": [
       "[<matplotlib.lines.Line2D at 0x29b9594f0>]"
      ]
     },
     "execution_count": 332,
     "metadata": {},
     "output_type": "execute_result"
    },
    {
     "data": {
      "image/png": "[encoded data removed]",
      "text/plain": [
       "<Figure size 640x480 with 1 Axes>"
      ]
     },
     "metadata": {},
     "output_type": "display_data"
    }
   ],
   "source": [
    "import torch\n",
    "xi = torch.linspace(-2,2,101)\n",
    "yi = torch.exp(xi)\n",
    "plt.plot(xi,yi)"
   ]
  },
  {
   "cell_type": "markdown",
   "id": "e9ff740f",
   "metadata": {},
   "source": [
    "* Write a function `relu(x)` that produces the relu activation function and its gradient.\n",
    "* make sure the gradient is returned as a shape (N,1)\n",
    "* plot it for the range: `x = np.linspace(-5,5,1001)`"
   ]
  },
  {
   "cell_type": "markdown",
   "id": "80e14f35",
   "metadata": {},
   "source": [
    "## Step 3 - make things sum to one\n",
    "\n",
    "Now assum we have N positive numbers $x_i > 0$, how can we make sure they sum to one?\n",
    "\n",
    "* Just take whatever their sum is and divide each number by it\n",
    "\n",
    "$$ a_i \\to \\theta_i = \\frac{a_i}{\\sum_i a_i}$$\n",
    "\n",
    "\n",
    "Putting these things together gives us a nice rule \n",
    "\n",
    "$$ \\theta_i(x) = \\mathrm{scale}(\\mathrm{exp}(f_i(x)) = \\frac{\\exp(-f_i(x))}{\\sum_i \\exp(f_i(x))}$$\n",
    "\n",
    "* Write a function that takes in a tensor of shape (N,10) and produces valid `\\theta_i`'s \n",
    "* Validate that the numbers sum to 1 using a random tensor `torch.randn(123,10)`\n",
    "* Write a `plot_probs(theta)` using `matplotlib`'s `plt.bar` to plot a bar plot of the probabilities"
   ]
  },
  {
   "cell_type": "code",
   "execution_count": 333,
   "id": "d2974354",
   "metadata": {},
   "outputs": [
    {
     "data": {
      "image/png": "[encoded data removed]",
      "text/plain": [
       "<Figure size 640x480 with 1 Axes>"
      ]
     },
     "metadata": {},
     "output_type": "display_data"
    }
   ],
   "source": [
    "def plot_probs(theta):\n",
    "    plt.bar(range(len(theta)),theta)\n",
    "    plt.ylabel(r'$\\theta$')\n",
    "    plt.xlabel(r'category')\n",
    "\n",
    "x = torch.randn(123,10)\n",
    "y = torch.exp(x)/torch.sum(torch.exp(x),dim=-1).reshape(-1,1)\n",
    "plot_probs(y[0])"
   ]
  },
  {
   "cell_type": "markdown",
   "id": "cff7ca15",
   "metadata": {},
   "source": [
    "## Step 4 - Construct the loss\n",
    "\n",
    "To construct our loss we now need to compute $$ - \\log q(z = i|\\theta_i) $$ for a given label.\n",
    "\n",
    "The best way to do this is via so-called \"one-hot\" encoding and elementwise multiplication\n",
    "\n",
    "```\n",
    "sum([0,0,0,1,0,0,0,0,0,0] * [θ₀,θ₁,θ₂,θ₃,θ₄,θ₅,θ₆,θ₇,θ₈,θ₉])\n",
    "```\n",
    "\n",
    "```\n",
    "sum([[0,0,0,θ₃,0,0,0,0,0,0]) = θ₃\n",
    "```\n",
    "\n",
    "`torch` gives you a nice utility for this \n",
    "\n",
    "```python\n",
    "[In] torch.nn.functional.one_hot(torch.tensor(1), 10)\n",
    "[Out] tensor([0, 1, 0, 0, 0, 0, 0, 0, 0, 0])\n",
    "```\n",
    "\n",
    "We can use this to e.g. compute a loss for e.g. a batch of 3 numbers\n",
    "\n",
    "x = torch.randn(3,10)\n",
    "y = torch.randint(0,10,(3,))\n",
    "\n",
    "in the following way\n",
    "\n",
    "\n",
    "```python\n",
    "one_hots = torch.nn.functional.one_hot(y, 10)\n",
    "thetas = torch.exp(x)/torch.sum(torch.exp(x),dim=-1).reshape(-1,1)\n",
    "losses = -torch.log(torch.sum(thetas*one_hots,dim=-1))\n",
    "loss = losses.mean()\n",
    "```\n",
    "\n",
    "Unfortunately, this is quite numerically unstable ([read more here](https://en.wikipedia.org/wiki/LogSumExp))\n",
    "\n",
    "Fortunaly, PyTorch gives us a convenience function to compute this\n",
    "\n",
    "```python\n",
    "torch.nn.functional.cross_entropy(x,y)\n",
    "```\n",
    "\n",
    "It's almost tooo easy!\n",
    "\n",
    "* Validate for a small sample, that this gives the same result"
   ]
  },
  {
   "cell_type": "code",
   "execution_count": 334,
   "id": "63eb609e",
   "metadata": {},
   "outputs": [
    {
     "name": "stdout",
     "output_type": "stream",
     "text": [
      "manual: 2.56651\n",
      "pytorch 2.56651\n"
     ]
    }
   ],
   "source": [
    "x = torch.randn(3,10)\n",
    "y = torch.randint(0,10,(3,))\n",
    "one_hots = torch.nn.functional.one_hot(y, 10)\n",
    "probs = torch.exp(x)/torch.sum(torch.exp(x),dim=-1).reshape(-1,1)\n",
    "losses = -torch.log(torch.sum(probs*one_hots,dim=-1))\n",
    "loss = losses.mean()\n",
    "print(f'manual: {loss.mean():.5f}')\n",
    "print(f'pytorch {torch.nn.functional.cross_entropy(x,y):.5f}')"
   ]
  },
  {
   "cell_type": "markdown",
   "id": "73ca104f",
   "metadata": {},
   "source": [
    "## Step 5\n",
    "\n",
    "We are now ready to go and have our instructions. We need to compose the following things \n",
    "\n",
    "1. A non-linear function mapping from $\\mathbb{R}^{784} \\to \\mathbb{R}^{10}$\n",
    "2. Turning this into 10 positive numbers that sum to one\n",
    "\n",
    "For 1. we will use an MLP for 2. we will use Pytorch's convenience method\n",
    "\n",
    "\n",
    "As discussed in the Lecture we can use PyTorchs `torch.nn.Sequential` API to build up a nice little neural network\n",
    "\n",
    "```python\n",
    "model = torch.nn.Sequential(\n",
    "   layer1,\n",
    "   layer2,\n",
    "   layer3,\n",
    ")\n",
    "```\n",
    "\n",
    "* Write a function `create_model(N)` that returns a PyTorch MLP with a hidden layer with `N` nodes to get a function $\\mathbb{R}^{784} \\to \\mathbb{R}^{10}$\n",
    "* Test your model on a random inputs and labels\n",
    "* Check what the cross entropy loss would be on such a model\n",
    "\n",
    "```python\n",
    "logits = model(torch.randn(123,784))\n",
    "labels = torch.randint(0,10,(123,))\n",
    "```"
   ]
  },
  {
   "cell_type": "code",
   "execution_count": 375,
   "id": "ce2c4841",
   "metadata": {},
   "outputs": [
    {
     "name": "stdout",
     "output_type": "stream",
     "text": [
      "tensor(2.3241, grad_fn=<NllLossBackward0>)\n"
     ]
    }
   ],
   "source": [
    "def create_model(N = 200):\n",
    "    return torch.nn.Sequential(\n",
    "        torch.nn.Linear(784,N),\n",
    "        torch.nn.ReLU(),\n",
    "        torch.nn.Linear(N,10),\n",
    "    )\n",
    "\n",
    "model = create_model(200)\n",
    "logits = model(torch.randn(123,784))\n",
    "labels = torch.randint(0,10,(123,))\n",
    "loss = torch.nn.functional.cross_entropy(logits,labels)\n",
    "print(loss)"
   ]
  },
  {
   "cell_type": "markdown",
   "id": "eaf8c10a",
   "metadata": {},
   "source": [
    "#  Step 6 - Let's Train a model!\n",
    "\n",
    "Before training we need to get our data in order. As discussed in the lecture it's a good idea to normalize it\n",
    "\n",
    "I went ahead and wrote a quick & dirty data loader (this works for small datasets, but will be horribly inefficient for bigger ones - don't do this at home!)\n",
    "\n",
    "```python\n",
    "def get_random_batch(N = 200, collection = 'train'):\n",
    "    alldata = mnist.train_images()\n",
    "    mean,std = alldata.mean(),alldata.std()\n",
    "    \n",
    "    images = getattr(mnist,collection+'_images')()\n",
    "    labesl = getattr(mnist,collection+'_labels')()\n",
    "    indices = np.random.choice(np.arange(len(images)), size = (N,))\n",
    "    X = getattr(mnist,collection+'_images')()[indices].reshape(-1,784)\n",
    "    y = getattr(mnist,collection+'_labels')()[indices]\n",
    "    return torch.FloatTensor((X-mean)/std),torch.LongTensor(y)\n",
    "```\n",
    "\n",
    "We now need to write a training function `train(Nhidden = 200, Nsteps = 300)` that\n",
    "\n",
    "* creates a MLP model\n",
    "* creates an Adam optimizer object (to which we pass the `model.parameters()` with a learning rate `1e-3`\n",
    "* loops for Nsteps\n",
    "* For each step\n",
    "  * compute the logits using your MLP\n",
    "  * compute the loss using `torch.nn.functional.cross_entropy`\n",
    "  * trigger back propagation\n",
    "  * make an optimization step\n",
    "  * reset the gradients\n",
    "  * print out every 50 steps (`if i % 50 == 0`) the current loss\n",
    "* after the loop, return the trained model"
   ]
  },
  {
   "cell_type": "code",
   "execution_count": 418,
   "id": "fa39d53a",
   "metadata": {},
   "outputs": [],
   "source": [
    "def get_random_batch(N = 200, collection = 'train'):\n",
    "    alldata = mnist.train_images()\n",
    "    mean,std = alldata.mean(),alldata.std()\n",
    "    \n",
    "    images = getattr(mnist,collection+'_images')()\n",
    "    labesl = getattr(mnist,collection+'_labels')()\n",
    "    indices = np.random.choice(np.arange(len(images)), size = (N,))\n",
    "    X = getattr(mnist,collection+'_images')()[indices].reshape(-1,784)\n",
    "    y = getattr(mnist,collection+'_labels')()[indices]\n",
    "    return torch.FloatTensor((X-mean)/std),torch.LongTensor(y)\n",
    "\n",
    "def train(Nhidden = 200,Nsteps = 200):\n",
    "    model = create_model(Nhidden)\n",
    "    optim = torch.optim.Adam(model.parameters(),1e-3)\n",
    "    for i in range(Nsteps):\n",
    "        X,y = get_random_train_batch()\n",
    "        p = model(X)\n",
    "        loss = torch.nn.functional.cross_entropy(p,y)\n",
    "        loss.backward()\n",
    "        optim.step()\n",
    "        optim.zero_grad()\n",
    "        if i % 25 == 0:\n",
    "            print(f'loss: {i}: {loss:.4f}')\n",
    "    return model"
   ]
  },
  {
   "cell_type": "code",
   "execution_count": 397,
   "id": "c663b39d",
   "metadata": {},
   "outputs": [
    {
     "name": "stdout",
     "output_type": "stream",
     "text": [
      "loss: 0: 2.3578\n",
      "loss: 25: 0.4921\n",
      "loss: 50: 0.2469\n",
      "loss: 75: 0.3302\n",
      "loss: 100: 0.3629\n",
      "loss: 125: 0.2601\n",
      "loss: 150: 0.2390\n",
      "loss: 175: 0.2261\n"
     ]
    }
   ],
   "source": [
    "trained_model = train()"
   ]
  },
  {
   "cell_type": "markdown",
   "id": "def67d34",
   "metadata": {},
   "source": [
    "# Test your model\n",
    "\n",
    "Congratulations, you just traind a human handwritten recognition system.\n",
    "\n",
    "Try it out on the test set!\n",
    "\n",
    "* You can use `get_random_batch(1,'test')` with `collection = 'test'` to get a test sample\n",
    "* Run it through your trained model\n",
    "* Get the higher probability prediction using the `.argmax()` function\n",
    "* plot the image (remember to reshape into `(28,28)`), the true label and the prediction"
   ]
  },
  {
   "cell_type": "code",
   "execution_count": 426,
   "id": "1555daf6",
   "metadata": {},
   "outputs": [
    {
     "data": {
      "image/png": "[encoded data removed]",
      "text/plain": [
       "<Figure size 100x100 with 1 Axes>"
      ]
     },
     "metadata": {},
     "output_type": "display_data"
    }
   ],
   "source": [
    "testX,testy = get_random_batch(1,'test')\n",
    "predictions = trained_model(testX).argmax(dim=-1)\n",
    "plot(testX[0].reshape(28,28),testy[0],predictions[0])"
   ]
  },
  {
   "cell_type": "code",
   "execution_count": null,
   "id": "cf845c9a",
   "metadata": {},
   "outputs": [],
   "source": []
  }
 ],
 "metadata": {
  "kernelspec": {
   "display_name": "Python 3 (ipykernel)",
   "language": "python",
   "name": "python3"
  },
  "language_info": {
   "codemirror_mode": {
    "name": "ipython",
    "version": 3
   },
   "file_extension": ".py",
   "mimetype": "text/x-python",
   "name": "python",
   "nbconvert_exporter": "python",
   "pygments_lexer": "ipython3",
   "version": "3.10.8"
  }
 },
 "nbformat": 4,
 "nbformat_minor": 5
}
