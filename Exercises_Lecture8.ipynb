{
 "cells": [
  {
   "cell_type": "markdown",
   "id": "0675d911",
   "metadata": {},
   "source": [
    "# Training Permutation-Invariant Networks\n"
   ]
  },
  {
   "cell_type": "markdown",
   "id": "1e42a09c",
   "metadata": {},
   "source": [
    "This week, we'll focus on permutation invariant neural networks. In general the answer here is graph neural networks but for this exercise we will focus on datasets that are just bags of objects, without any edges, i.e.\n",
    "`DeepSets` as discussed in the lecture.\n",
    "\n",
    "\n",
    "First, let's create a data-generating function `make_data(N)` that produces the `N` instances following data \n",
    "\n",
    "* each instance has 10 objects\n",
    "* each object has 1 feature that either has value $x=0$ or a nonzero value $x!=0$\n",
    "* for data from class 0, a random subset of 3 objects has value 1/3\n",
    "* for data from class 1, a random subset of 5 objects has value 1/5\n",
    "\n",
    "The function `make_data(N)` should return a PyTorch feature matrix of shape `(N,10,1)` and a PyTorch label array of shape `(N,1)`\n",
    "\n",
    "* Visualize the a batch of data through `plt.imshow(X)`"
   ]
  },
  {
   "cell_type": "code",
   "execution_count": 69,
   "id": "fd25db85",
   "metadata": {},
   "outputs": [
    {
     "data": {
      "text/plain": [
       "<matplotlib.image.AxesImage at 0x1446685b0>"
      ]
     },
     "execution_count": 69,
     "metadata": {},
     "output_type": "execute_result"
    },
    {
     "data": {
      "image/png": "[encoded data removed]",
      "text/plain": [
       "<Figure size 640x480 with 1 Axes>"
      ]
     },
     "metadata": {},
     "output_type": "display_data"
    }
   ],
   "source": [
    "import numpy as np\n",
    "import matplotlib.pyplot as plt\n",
    "import torch\n",
    "\n",
    "def make_data(N):\n",
    "    total = 10\n",
    "    X = np.zeros((N,total))\n",
    "    idx = np.random.choice(np.arange(N),size = (N//2,))\n",
    "    labels = []\n",
    "    for i in range(N):\n",
    "        if i in idx:\n",
    "            active = 3\n",
    "            slots = np.random.choice(np.arange(total), size = (active,), replace = False)\n",
    "            X[i][slots] = 1/active\n",
    "            labels.append(0)\n",
    "        else:\n",
    "            active = 5\n",
    "            slots = np.random.choice(np.arange(total), size = (active,), replace = False)\n",
    "            X[i][slots] = 1/active\n",
    "            labels.append(1)\n",
    "    labels = np.array(labels)\n",
    "    return torch.FloatTensor(X.reshape(N,total,1)),torch.FloatTensor(labels.reshape(-1,1))\n",
    "X,y = make_data(100)\n",
    "plt.imshow(X)"
   ]
  },
  {
   "cell_type": "markdown",
   "id": "6cb2e71b",
   "metadata": {},
   "source": [
    "## Creating the Models\n",
    "\n",
    "Now we create two models that we want to compare\n",
    "\n",
    "* a DeepSet model\n",
    "* a standard MLP\n",
    "\n",
    "For the DeepSet create a class `DeepSet` that subclasses `torch.nn.Module`. Recall the definition of a DeepSet. It has two components\n",
    "\n",
    "* an element wise network that just transforms the per-element features into a new representation\n",
    "* a global set-wide network that takes the pooled representations of the objects and performs the final classification\n",
    "\n",
    "For the element-wise network create a small MLP that maps `\\mathbb{R} \\to \\mathbb{R}` with two hidden layers and a `Tanh` activation and a small number of hidden units (e.g. 5) per layer\n",
    "\n",
    "For the global network use a single hidden layer with also a small number of units and prepare the network for binary classification (i.e. use a sigmoid as the last operation)\n",
    "\n",
    "When implementing the `forward()` of the `DeepSet` class go through the right order of operations\n",
    "* calculate the per-element values for all objects\n",
    "* implement the pooling (use sum pooling) \n",
    "* pass the pooled representation into the set-wide network\n"
   ]
  },
  {
   "cell_type": "code",
   "execution_count": 70,
   "id": "6692698d",
   "metadata": {},
   "outputs": [],
   "source": [
    "class DeepSet(torch.nn.Module):\n",
    "    def __init__(self):\n",
    "        super().__init__()\n",
    "        self.element_wise = torch.nn.Sequential(\n",
    "            torch.nn.Linear(1,5),\n",
    "            torch.nn.Tanh(),\n",
    "            torch.nn.Linear(5,5),\n",
    "            torch.nn.Tanh(),\n",
    "            torch.nn.Linear(5,1),\n",
    "        )\n",
    "        self.global_net = torch.nn.Sequential(\n",
    "            torch.nn.Linear(1,5),\n",
    "            torch.nn.Tanh(),\n",
    "            torch.nn.Linear(5,1),\n",
    "            torch.nn.Sigmoid()\n",
    "        )\n",
    "    def forward(self, X):\n",
    "        inp = X.reshape(-1,1)\n",
    "        H = self.element_wise(inp)\n",
    "        H = H.reshape(-1,10,1)\n",
    "        pooled = H.sum(axis=1)\n",
    "        out = self.global_net(pooled)\n",
    "        return out"
   ]
  },
  {
   "cell_type": "markdown",
   "id": "173137dc",
   "metadata": {},
   "source": [
    "For the MLP, just use a standard network architecture with `torch.nn.Sequential`"
   ]
  },
  {
   "cell_type": "code",
   "execution_count": 75,
   "id": "cbe72271",
   "metadata": {},
   "outputs": [],
   "source": [
    "MLP = lambda Nhidden = 5: torch.nn.Sequential(\n",
    "            torch.nn.Flatten(),\n",
    "            torch.nn.Linear(10,Nhidden),\n",
    "            torch.nn.ReLU(),\n",
    "            torch.nn.Linear(Nhidden,Nhidden),\n",
    "            torch.nn.ReLU(),\n",
    "            torch.nn.Linear(Nhidden,1),\n",
    "            torch.nn.Sigmoid()\n",
    "        )"
   ]
  },
  {
   "cell_type": "markdown",
   "id": "343d00b0",
   "metadata": {},
   "source": [
    "## Writing the Training Loop\n",
    "\n",
    "Write a training loop that takes an untrained model and trains it for some number of steps (e.g. 4000)\n",
    "using the Adam optimizer. At each loop iteration, draw random data from `make_data` (this is effectively an infinitely large training dataset)\n",
    "\n",
    "\n",
    "* Train on binary cross entropy as a loss function.\n",
    "* As you are training, track the loss value\n",
    "* The `train(model)` function should return both the trained model as well as the loss history"
   ]
  },
  {
   "cell_type": "code",
   "execution_count": 79,
   "id": "2afd009a",
   "metadata": {},
   "outputs": [],
   "source": [
    "def train(model):\n",
    "    opt = torch.optim.Adam(model.parameters(),1e-3)\n",
    "    trajectory = []\n",
    "    for i in range(4000):\n",
    "        X,y = make_data(100)\n",
    "        p = model(X)\n",
    "        loss = torch.nn.functional.binary_cross_entropy(p,y)\n",
    "        trajectory.append(float(loss))\n",
    "        loss.backward()\n",
    "        opt.step()\n",
    "        opt.zero_grad()\n",
    "        if i % 500 == 0:\n",
    "            print(float(loss))\n",
    "    return model,np.array(trajectory)"
   ]
  },
  {
   "cell_type": "markdown",
   "id": "19404ce6",
   "metadata": {},
   "source": [
    "Train both the Deep Set as well as the MLP!"
   ]
  },
  {
   "cell_type": "code",
   "execution_count": 80,
   "id": "95549fe3",
   "metadata": {},
   "outputs": [
    {
     "name": "stdout",
     "output_type": "stream",
     "text": [
      "0.6979182362556458\n",
      "0.6820977926254272\n",
      "0.1740533858537674\n",
      "0.012241157703101635\n",
      "0.005355640780180693\n",
      "0.0031124691013246775\n",
      "0.002017370890825987\n",
      "0.001410092692822218\n",
      "0.6696314215660095\n",
      "0.6597276926040649\n",
      "0.6356285214424133\n",
      "0.5262448787689209\n",
      "0.40914708375930786\n",
      "0.49724847078323364\n",
      "0.301835298538208\n",
      "0.29015788435935974\n"
     ]
    }
   ],
   "source": [
    "trained_deepset,losscurve_deepset = train(DeepSet())\n",
    "trained_mlp,losscurve_mlp = train(MLP())"
   ]
  },
  {
   "cell_type": "markdown",
   "id": "855d9134",
   "metadata": {},
   "source": [
    "# Comparing MLP and DeepSet\n",
    "\n",
    "* Write a function `count_params(model)` that returns the number of parameters for the neural network\n",
    "* Compute the number of parameters for both trained models\n",
    "* Plot the loss curve for both the MLP as well as the DeepSet "
   ]
  },
  {
   "cell_type": "code",
   "execution_count": 82,
   "id": "51b9b6e1",
   "metadata": {},
   "outputs": [],
   "source": [
    "def count_params(model):\n",
    "    return sum([p.numel() for p in model.parameters()])\n",
    "\n",
    "n_deepset = count_params(trained_deepset)\n",
    "n_mlp = count_params(trained_mlp)"
   ]
  },
  {
   "cell_type": "code",
   "execution_count": 83,
   "id": "50f39561",
   "metadata": {},
   "outputs": [
    {
     "data": {
      "text/plain": [
       "<matplotlib.legend.Legend at 0x1444db3d0>"
      ]
     },
     "execution_count": 83,
     "metadata": {},
     "output_type": "execute_result"
    },
    {
     "data": {
      "image/png": "[encoded data removed]",
      "text/plain": [
       "<Figure size 640x480 with 1 Axes>"
      ]
     },
     "metadata": {},
     "output_type": "display_data"
    }
   ],
   "source": [
    "plt.plot(losscurve_deepset, label = f'Deep Set ({n_deepset} pars)')\n",
    "plt.plot(losscurve_mlp, label = f'MLP ({n_mlp} pars)')\n",
    "plt.legend()"
   ]
  },
  {
   "cell_type": "markdown",
   "id": "d0ec9873",
   "metadata": {},
   "source": [
    "## Verify the Permutation Invariance\n",
    "\n",
    "The advantage of encoding known symmetries into the network is not only that the learning is faster but of course also that the symmetries hold exactly. \n",
    "\n",
    "* Take an example instance of the data and produce 3 random permutations of it via `np.random.permutation`\n",
    "* Evaluate the model on each of these permuted inputs\n",
    "* Compare / Pring the model outputs and verify that the deep set is indeed permutation invariant, while the MLP is not"
   ]
  },
  {
   "cell_type": "code",
   "execution_count": 60,
   "id": "fda3c6e5",
   "metadata": {},
   "outputs": [
    {
     "name": "stdout",
     "output_type": "stream",
     "text": [
      "DeepSet\n",
      "tensor([[0.9993]], grad_fn=<SigmoidBackward0>)\n",
      "tensor([[0.9993]], grad_fn=<SigmoidBackward0>)\n",
      "tensor([[0.9993]], grad_fn=<SigmoidBackward0>)\n",
      "MLP\n",
      "tensor([[0.7028]], grad_fn=<SigmoidBackward0>)\n",
      "tensor([[0.5811]], grad_fn=<SigmoidBackward0>)\n",
      "tensor([[0.9780]], grad_fn=<SigmoidBackward0>)\n"
     ]
    }
   ],
   "source": [
    "perm0 = np.random.permutation(10)\n",
    "perm1 = np.random.permutation(10)\n",
    "perm2 = np.random.permutation(10)\n",
    "\n",
    "\n",
    "testX1 = torch.FloatTensor(X[0][perm0]).reshape(1,10,1)\n",
    "testX2 = torch.FloatTensor(X[0][perm1]).reshape(1,10,1)\n",
    "testX3 = torch.FloatTensor(X[0][perm2]).reshape(1,10,1)\n",
    "\n",
    "print('DeepSet')\n",
    "for XX in [testX1,testX2,testX3]:\n",
    "    print(trained_deepset(XX))\n",
    "\n",
    "print('MLP')\n",
    "for XX in [testX1,testX2,testX3]:\n",
    "    print(trained_mlp(XX))"
   ]
  },
  {
   "cell_type": "markdown",
   "id": "d1c77b0a",
   "metadata": {},
   "source": [
    "# Extra Question\n",
    "\n",
    "* How many parameters do you need in order to match the Deep Set performance with the MLP?\n",
    "* In the Deep Set try removing the non-Linearity in the element wise network\n",
    "* can you explain what is happening and why?"
   ]
  }
 ],
 "metadata": {
  "kernelspec": {
   "display_name": "Python 3 (ipykernel)",
   "language": "python",
   "name": "python3"
  },
  "language_info": {
   "codemirror_mode": {
    "name": "ipython",
    "version": 3
   },
   "file_extension": ".py",
   "mimetype": "text/x-python",
   "name": "python",
   "nbconvert_exporter": "python",
   "pygments_lexer": "ipython3",
   "version": "3.9.11"
  }
 },
 "nbformat": 4,
 "nbformat_minor": 5
}
